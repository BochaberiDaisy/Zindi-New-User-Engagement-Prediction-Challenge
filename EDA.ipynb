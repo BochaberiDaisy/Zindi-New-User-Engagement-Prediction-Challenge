{
 "cells": [
  {
   "cell_type": "code",
   "execution_count": 1,
   "id": "a048f0e4",
   "metadata": {},
   "outputs": [],
   "source": [
    "import pandas as pd\n",
    "import seaborn as sb\n",
    "import matplotlib.pyplot as plt"
   ]
  },
  {
   "cell_type": "code",
   "execution_count": 2,
   "id": "e55432b6",
   "metadata": {},
   "outputs": [],
   "source": [
    "users = pd.read_csv(\"Users.csv\")\n",
    "competition = pd.read_csv(\"Competition.csv\")\n",
    "user_activity = pd.read_csv(\"UserActivity.csv\")\n",
    "variables = pd.read_csv(\"VariableDefinitions.csv\")\n",
    "sample = pd.read_csv(\"SampleSubmission.csv\")\n",
    "competition_participation = pd.read_csv(\"CompetitionPartipation.csv\")\n",
    "blogs = pd.read_csv(\"Blogs.csv\")"
   ]
  },
  {
   "cell_type": "markdown",
   "id": "3f65233a",
   "metadata": {},
   "source": [
    "## Cleaning Methods"
   ]
  },
  {
   "cell_type": "code",
   "execution_count": 3,
   "id": "f5a6ef3f",
   "metadata": {},
   "outputs": [],
   "source": [
    "def replace(df):\n",
    "    df.columns = df.columns.str.replace(' ','_')\n",
    "    df.columns = df.columns.str.lower()\n",
    "    print(df.columns)\n"
   ]
  },
  {
   "cell_type": "code",
   "execution_count": 4,
   "id": "9f38a590",
   "metadata": {},
   "outputs": [],
   "source": [
    "def ordered(df,ordered_dict):\n",
    "    for var in ordered_dict:\n",
    "        ordered_var = pd.api.types.CategoricalDtype(ordered = True, categories = ordered_dict[var])\n",
    "    df[var] = df[var].astype(ordered_var)"
   ]
  },
  {
   "cell_type": "markdown",
   "id": "09281b69",
   "metadata": {},
   "source": [
    "### a) Competition Participation"
   ]
  },
  {
   "cell_type": "code",
   "execution_count": 5,
   "id": "b3ab7404",
   "metadata": {
    "scrolled": true
   },
   "outputs": [
    {
     "data": {
      "text/html": [
       "<div>\n",
       "<style scoped>\n",
       "    .dataframe tbody tr th:only-of-type {\n",
       "        vertical-align: middle;\n",
       "    }\n",
       "\n",
       "    .dataframe tbody tr th {\n",
       "        vertical-align: top;\n",
       "    }\n",
       "\n",
       "    .dataframe thead th {\n",
       "        text-align: right;\n",
       "    }\n",
       "</style>\n",
       "<table border=\"1\" class=\"dataframe\">\n",
       "  <thead>\n",
       "    <tr style=\"text-align: right;\">\n",
       "      <th></th>\n",
       "      <th>Competition ID</th>\n",
       "      <th>Participant Type</th>\n",
       "      <th>Successful Submission Count</th>\n",
       "      <th>User_ID</th>\n",
       "      <th>Created At time</th>\n",
       "      <th>Created At Year</th>\n",
       "      <th>Created At Month</th>\n",
       "      <th>Created At Day_of_month</th>\n",
       "    </tr>\n",
       "  </thead>\n",
       "  <tbody>\n",
       "    <tr>\n",
       "      <th>0</th>\n",
       "      <td>ID_WPP3</td>\n",
       "      <td>1</td>\n",
       "      <td>NaN</td>\n",
       "      <td>ID_40G01FGV</td>\n",
       "      <td>19:38:04.689865</td>\n",
       "      <td>1</td>\n",
       "      <td>11</td>\n",
       "      <td>20</td>\n",
       "    </tr>\n",
       "    <tr>\n",
       "      <th>1</th>\n",
       "      <td>ID_ZN92</td>\n",
       "      <td>1</td>\n",
       "      <td>NaN</td>\n",
       "      <td>ID_40G01FGV</td>\n",
       "      <td>19:38:04.670583</td>\n",
       "      <td>1</td>\n",
       "      <td>11</td>\n",
       "      <td>20</td>\n",
       "    </tr>\n",
       "    <tr>\n",
       "      <th>2</th>\n",
       "      <td>ID_I9BN</td>\n",
       "      <td>1</td>\n",
       "      <td>NaN</td>\n",
       "      <td>ID_40G01FGV</td>\n",
       "      <td>12:06:55.884320</td>\n",
       "      <td>1</td>\n",
       "      <td>12</td>\n",
       "      <td>17</td>\n",
       "    </tr>\n",
       "    <tr>\n",
       "      <th>3</th>\n",
       "      <td>ID_PDKH</td>\n",
       "      <td>1</td>\n",
       "      <td>count 10</td>\n",
       "      <td>ID_40G01FGV</td>\n",
       "      <td>11:24:04.239058</td>\n",
       "      <td>1</td>\n",
       "      <td>12</td>\n",
       "      <td>6</td>\n",
       "    </tr>\n",
       "    <tr>\n",
       "      <th>4</th>\n",
       "      <td>ID_CFN7</td>\n",
       "      <td>1</td>\n",
       "      <td>NaN</td>\n",
       "      <td>ID_P33ABQX5</td>\n",
       "      <td>05:16:09.052129</td>\n",
       "      <td>1</td>\n",
       "      <td>5</td>\n",
       "      <td>26</td>\n",
       "    </tr>\n",
       "  </tbody>\n",
       "</table>\n",
       "</div>"
      ],
      "text/plain": [
       "  Competition ID  Participant Type Successful Submission Count      User_ID  \\\n",
       "0        ID_WPP3                 1                         NaN  ID_40G01FGV   \n",
       "1        ID_ZN92                 1                         NaN  ID_40G01FGV   \n",
       "2        ID_I9BN                 1                         NaN  ID_40G01FGV   \n",
       "3        ID_PDKH                 1                    count 10  ID_40G01FGV   \n",
       "4        ID_CFN7                 1                         NaN  ID_P33ABQX5   \n",
       "\n",
       "   Created At time  Created At Year  Created At Month  Created At Day_of_month  \n",
       "0  19:38:04.689865                1                11                       20  \n",
       "1  19:38:04.670583                1                11                       20  \n",
       "2  12:06:55.884320                1                12                       17  \n",
       "3  11:24:04.239058                1                12                        6  \n",
       "4  05:16:09.052129                1                 5                       26  "
      ]
     },
     "execution_count": 5,
     "metadata": {},
     "output_type": "execute_result"
    }
   ],
   "source": [
    "competition_participation.head()"
   ]
  },
  {
   "cell_type": "code",
   "execution_count": 6,
   "id": "dccef1d8",
   "metadata": {},
   "outputs": [
    {
     "name": "stdout",
     "output_type": "stream",
     "text": [
      "<class 'pandas.core.frame.DataFrame'>\n",
      "RangeIndex: 8385 entries, 0 to 8384\n",
      "Data columns (total 8 columns):\n",
      " #   Column                       Non-Null Count  Dtype \n",
      "---  ------                       --------------  ----- \n",
      " 0   Competition ID               8385 non-null   object\n",
      " 1   Participant Type             8385 non-null   int64 \n",
      " 2   Successful Submission Count  1449 non-null   object\n",
      " 3   User_ID                      8385 non-null   object\n",
      " 4   Created At time              8385 non-null   object\n",
      " 5   Created At Year              8385 non-null   int64 \n",
      " 6   Created At Month             8385 non-null   int64 \n",
      " 7   Created At Day_of_month      8385 non-null   int64 \n",
      "dtypes: int64(4), object(4)\n",
      "memory usage: 524.2+ KB\n"
     ]
    }
   ],
   "source": [
    "competition_participation.info()"
   ]
  },
  {
   "cell_type": "code",
   "execution_count": 7,
   "id": "4c1351d4",
   "metadata": {},
   "outputs": [
    {
     "name": "stdout",
     "output_type": "stream",
     "text": [
      "Index(['competition_id', 'participant_type', 'successful_submission_count',\n",
      "       'user_id', 'created_at_time', 'created_at_year', 'created_at_month',\n",
      "       'created_at_day_of_month'],\n",
      "      dtype='object')\n"
     ]
    }
   ],
   "source": [
    "replace(competition_participation)"
   ]
  },
  {
   "cell_type": "markdown",
   "id": "2be16c70",
   "metadata": {},
   "source": [
    "### b) Users"
   ]
  },
  {
   "cell_type": "code",
   "execution_count": 8,
   "id": "6dda239d",
   "metadata": {},
   "outputs": [
    {
     "data": {
      "text/html": [
       "<div>\n",
       "<style scoped>\n",
       "    .dataframe tbody tr th:only-of-type {\n",
       "        vertical-align: middle;\n",
       "    }\n",
       "\n",
       "    .dataframe tbody tr th {\n",
       "        vertical-align: top;\n",
       "    }\n",
       "\n",
       "    .dataframe thead th {\n",
       "        text-align: right;\n",
       "    }\n",
       "</style>\n",
       "<table border=\"1\" class=\"dataframe\">\n",
       "  <thead>\n",
       "    <tr style=\"text-align: right;\">\n",
       "      <th></th>\n",
       "      <th>FeatureX</th>\n",
       "      <th>FeatureY</th>\n",
       "      <th>User_ID</th>\n",
       "      <th>Countries_ID</th>\n",
       "      <th>Created At time</th>\n",
       "      <th>Created At Year</th>\n",
       "      <th>Created At Month</th>\n",
       "      <th>Created At Day_of_month</th>\n",
       "    </tr>\n",
       "  </thead>\n",
       "  <tbody>\n",
       "    <tr>\n",
       "      <th>0</th>\n",
       "      <td>0</td>\n",
       "      <td>0</td>\n",
       "      <td>ID_DC6S4E9O</td>\n",
       "      <td>X9GR</td>\n",
       "      <td>19:33:13.663391</td>\n",
       "      <td>1</td>\n",
       "      <td>1</td>\n",
       "      <td>16</td>\n",
       "    </tr>\n",
       "    <tr>\n",
       "      <th>1</th>\n",
       "      <td>1</td>\n",
       "      <td>0</td>\n",
       "      <td>ID_E8S97OUT</td>\n",
       "      <td>X9GR</td>\n",
       "      <td>22:18:18.228921</td>\n",
       "      <td>1</td>\n",
       "      <td>12</td>\n",
       "      <td>27</td>\n",
       "    </tr>\n",
       "    <tr>\n",
       "      <th>2</th>\n",
       "      <td>0</td>\n",
       "      <td>0</td>\n",
       "      <td>ID_QZ1HASL3</td>\n",
       "      <td>X9GR</td>\n",
       "      <td>23:13:03.266635</td>\n",
       "      <td>1</td>\n",
       "      <td>1</td>\n",
       "      <td>1</td>\n",
       "    </tr>\n",
       "    <tr>\n",
       "      <th>3</th>\n",
       "      <td>1</td>\n",
       "      <td>0</td>\n",
       "      <td>ID_SDV9Q3E9</td>\n",
       "      <td>X9GR</td>\n",
       "      <td>09:50:09.697573</td>\n",
       "      <td>1</td>\n",
       "      <td>12</td>\n",
       "      <td>27</td>\n",
       "    </tr>\n",
       "    <tr>\n",
       "      <th>4</th>\n",
       "      <td>1</td>\n",
       "      <td>0</td>\n",
       "      <td>ID_W942LN7F</td>\n",
       "      <td>X9GR</td>\n",
       "      <td>13:33:06.531662</td>\n",
       "      <td>1</td>\n",
       "      <td>1</td>\n",
       "      <td>16</td>\n",
       "    </tr>\n",
       "    <tr>\n",
       "      <th>...</th>\n",
       "      <td>...</td>\n",
       "      <td>...</td>\n",
       "      <td>...</td>\n",
       "      <td>...</td>\n",
       "      <td>...</td>\n",
       "      <td>...</td>\n",
       "      <td>...</td>\n",
       "      <td>...</td>\n",
       "    </tr>\n",
       "    <tr>\n",
       "      <th>12408</th>\n",
       "      <td>0</td>\n",
       "      <td>1</td>\n",
       "      <td>ID_C5393PD0</td>\n",
       "      <td>7DKX</td>\n",
       "      <td>05:02:39.352427</td>\n",
       "      <td>1</td>\n",
       "      <td>11</td>\n",
       "      <td>6</td>\n",
       "    </tr>\n",
       "    <tr>\n",
       "      <th>12409</th>\n",
       "      <td>0</td>\n",
       "      <td>1</td>\n",
       "      <td>ID_QX7XRT0C</td>\n",
       "      <td>K4DG</td>\n",
       "      <td>02:50:19.027320</td>\n",
       "      <td>1</td>\n",
       "      <td>3</td>\n",
       "      <td>25</td>\n",
       "    </tr>\n",
       "    <tr>\n",
       "      <th>12410</th>\n",
       "      <td>0</td>\n",
       "      <td>1</td>\n",
       "      <td>ID_RGN2RK66</td>\n",
       "      <td>ONON</td>\n",
       "      <td>22:06:33.713692</td>\n",
       "      <td>1</td>\n",
       "      <td>12</td>\n",
       "      <td>7</td>\n",
       "    </tr>\n",
       "    <tr>\n",
       "      <th>12411</th>\n",
       "      <td>0</td>\n",
       "      <td>0</td>\n",
       "      <td>ID_XZS1QE0W</td>\n",
       "      <td>3YQR</td>\n",
       "      <td>06:56:02.570173</td>\n",
       "      <td>1</td>\n",
       "      <td>5</td>\n",
       "      <td>27</td>\n",
       "    </tr>\n",
       "    <tr>\n",
       "      <th>12412</th>\n",
       "      <td>0</td>\n",
       "      <td>1</td>\n",
       "      <td>ID_8K4FGJYO</td>\n",
       "      <td>G4PG</td>\n",
       "      <td>10:22:54.369939</td>\n",
       "      <td>1</td>\n",
       "      <td>12</td>\n",
       "      <td>5</td>\n",
       "    </tr>\n",
       "  </tbody>\n",
       "</table>\n",
       "<p>12413 rows × 8 columns</p>\n",
       "</div>"
      ],
      "text/plain": [
       "       FeatureX  FeatureY      User_ID Countries_ID  Created At time  \\\n",
       "0             0         0  ID_DC6S4E9O         X9GR  19:33:13.663391   \n",
       "1             1         0  ID_E8S97OUT         X9GR  22:18:18.228921   \n",
       "2             0         0  ID_QZ1HASL3         X9GR  23:13:03.266635   \n",
       "3             1         0  ID_SDV9Q3E9         X9GR  09:50:09.697573   \n",
       "4             1         0  ID_W942LN7F         X9GR  13:33:06.531662   \n",
       "...         ...       ...          ...          ...              ...   \n",
       "12408         0         1  ID_C5393PD0         7DKX  05:02:39.352427   \n",
       "12409         0         1  ID_QX7XRT0C         K4DG  02:50:19.027320   \n",
       "12410         0         1  ID_RGN2RK66         ONON  22:06:33.713692   \n",
       "12411         0         0  ID_XZS1QE0W         3YQR  06:56:02.570173   \n",
       "12412         0         1  ID_8K4FGJYO         G4PG  10:22:54.369939   \n",
       "\n",
       "       Created At Year  Created At Month  Created At Day_of_month  \n",
       "0                    1                 1                       16  \n",
       "1                    1                12                       27  \n",
       "2                    1                 1                        1  \n",
       "3                    1                12                       27  \n",
       "4                    1                 1                       16  \n",
       "...                ...               ...                      ...  \n",
       "12408                1                11                        6  \n",
       "12409                1                 3                       25  \n",
       "12410                1                12                        7  \n",
       "12411                1                 5                       27  \n",
       "12412                1                12                        5  \n",
       "\n",
       "[12413 rows x 8 columns]"
      ]
     },
     "execution_count": 8,
     "metadata": {},
     "output_type": "execute_result"
    }
   ],
   "source": [
    "users1=users.copy()\n",
    "users1"
   ]
  },
  {
   "cell_type": "code",
   "execution_count": 9,
   "id": "5d548e2c",
   "metadata": {},
   "outputs": [
    {
     "data": {
      "text/html": [
       "<div>\n",
       "<style scoped>\n",
       "    .dataframe tbody tr th:only-of-type {\n",
       "        vertical-align: middle;\n",
       "    }\n",
       "\n",
       "    .dataframe tbody tr th {\n",
       "        vertical-align: top;\n",
       "    }\n",
       "\n",
       "    .dataframe thead th {\n",
       "        text-align: right;\n",
       "    }\n",
       "</style>\n",
       "<table border=\"1\" class=\"dataframe\">\n",
       "  <thead>\n",
       "    <tr style=\"text-align: right;\">\n",
       "      <th></th>\n",
       "      <th>FeatureX</th>\n",
       "      <th>FeatureY</th>\n",
       "      <th>Created At Year</th>\n",
       "      <th>Created At Month</th>\n",
       "      <th>Created At Day_of_month</th>\n",
       "    </tr>\n",
       "  </thead>\n",
       "  <tbody>\n",
       "    <tr>\n",
       "      <th>count</th>\n",
       "      <td>12413.000000</td>\n",
       "      <td>12413.000000</td>\n",
       "      <td>12413.0</td>\n",
       "      <td>12413.000000</td>\n",
       "      <td>12413.000000</td>\n",
       "    </tr>\n",
       "    <tr>\n",
       "      <th>mean</th>\n",
       "      <td>0.085314</td>\n",
       "      <td>0.528237</td>\n",
       "      <td>1.0</td>\n",
       "      <td>5.258922</td>\n",
       "      <td>16.305970</td>\n",
       "    </tr>\n",
       "    <tr>\n",
       "      <th>std</th>\n",
       "      <td>0.279359</td>\n",
       "      <td>0.891619</td>\n",
       "      <td>0.0</td>\n",
       "      <td>3.970421</td>\n",
       "      <td>9.023629</td>\n",
       "    </tr>\n",
       "    <tr>\n",
       "      <th>min</th>\n",
       "      <td>0.000000</td>\n",
       "      <td>0.000000</td>\n",
       "      <td>1.0</td>\n",
       "      <td>1.000000</td>\n",
       "      <td>1.000000</td>\n",
       "    </tr>\n",
       "    <tr>\n",
       "      <th>25%</th>\n",
       "      <td>0.000000</td>\n",
       "      <td>0.000000</td>\n",
       "      <td>1.0</td>\n",
       "      <td>2.000000</td>\n",
       "      <td>8.000000</td>\n",
       "    </tr>\n",
       "    <tr>\n",
       "      <th>50%</th>\n",
       "      <td>0.000000</td>\n",
       "      <td>0.000000</td>\n",
       "      <td>1.0</td>\n",
       "      <td>4.000000</td>\n",
       "      <td>17.000000</td>\n",
       "    </tr>\n",
       "    <tr>\n",
       "      <th>75%</th>\n",
       "      <td>0.000000</td>\n",
       "      <td>1.000000</td>\n",
       "      <td>1.0</td>\n",
       "      <td>11.000000</td>\n",
       "      <td>25.000000</td>\n",
       "    </tr>\n",
       "    <tr>\n",
       "      <th>max</th>\n",
       "      <td>1.000000</td>\n",
       "      <td>3.000000</td>\n",
       "      <td>1.0</td>\n",
       "      <td>12.000000</td>\n",
       "      <td>31.000000</td>\n",
       "    </tr>\n",
       "  </tbody>\n",
       "</table>\n",
       "</div>"
      ],
      "text/plain": [
       "           FeatureX      FeatureY  Created At Year  Created At Month  \\\n",
       "count  12413.000000  12413.000000          12413.0      12413.000000   \n",
       "mean       0.085314      0.528237              1.0          5.258922   \n",
       "std        0.279359      0.891619              0.0          3.970421   \n",
       "min        0.000000      0.000000              1.0          1.000000   \n",
       "25%        0.000000      0.000000              1.0          2.000000   \n",
       "50%        0.000000      0.000000              1.0          4.000000   \n",
       "75%        0.000000      1.000000              1.0         11.000000   \n",
       "max        1.000000      3.000000              1.0         12.000000   \n",
       "\n",
       "       Created At Day_of_month  \n",
       "count             12413.000000  \n",
       "mean                 16.305970  \n",
       "std                   9.023629  \n",
       "min                   1.000000  \n",
       "25%                   8.000000  \n",
       "50%                  17.000000  \n",
       "75%                  25.000000  \n",
       "max                  31.000000  "
      ]
     },
     "execution_count": 9,
     "metadata": {},
     "output_type": "execute_result"
    }
   ],
   "source": [
    "users1.describe()"
   ]
  },
  {
   "cell_type": "code",
   "execution_count": 10,
   "id": "80e22e66",
   "metadata": {},
   "outputs": [
    {
     "name": "stdout",
     "output_type": "stream",
     "text": [
      "<class 'pandas.core.frame.DataFrame'>\n",
      "RangeIndex: 12413 entries, 0 to 12412\n",
      "Data columns (total 8 columns):\n",
      " #   Column                   Non-Null Count  Dtype \n",
      "---  ------                   --------------  ----- \n",
      " 0   FeatureX                 12413 non-null  int64 \n",
      " 1   FeatureY                 12413 non-null  int64 \n",
      " 2   User_ID                  12413 non-null  object\n",
      " 3   Countries_ID             6531 non-null   object\n",
      " 4   Created At time          12413 non-null  object\n",
      " 5   Created At Year          12413 non-null  int64 \n",
      " 6   Created At Month         12413 non-null  int64 \n",
      " 7   Created At Day_of_month  12413 non-null  int64 \n",
      "dtypes: int64(5), object(3)\n",
      "memory usage: 775.9+ KB\n"
     ]
    }
   ],
   "source": [
    "users1.info()"
   ]
  },
  {
   "cell_type": "code",
   "execution_count": 11,
   "id": "501aee19",
   "metadata": {},
   "outputs": [
    {
     "name": "stdout",
     "output_type": "stream",
     "text": [
      "Index(['featurex', 'featurey', 'user_id', 'countries_id', 'created_at_time',\n",
      "       'created_at_year', 'created_at_month', 'created_at_day_of_month'],\n",
      "      dtype='object')\n"
     ]
    }
   ],
   "source": [
    "replace(users1)"
   ]
  },
  {
   "cell_type": "code",
   "execution_count": 12,
   "id": "fa039f7e",
   "metadata": {},
   "outputs": [
    {
     "data": {
      "text/html": [
       "<div>\n",
       "<style scoped>\n",
       "    .dataframe tbody tr th:only-of-type {\n",
       "        vertical-align: middle;\n",
       "    }\n",
       "\n",
       "    .dataframe tbody tr th {\n",
       "        vertical-align: top;\n",
       "    }\n",
       "\n",
       "    .dataframe thead th {\n",
       "        text-align: right;\n",
       "    }\n",
       "</style>\n",
       "<table border=\"1\" class=\"dataframe\">\n",
       "  <thead>\n",
       "    <tr style=\"text-align: right;\">\n",
       "      <th></th>\n",
       "      <th>featurex</th>\n",
       "      <th>featurey</th>\n",
       "      <th>user_id</th>\n",
       "      <th>countries_id</th>\n",
       "      <th>created_at_time</th>\n",
       "      <th>created_at_year</th>\n",
       "      <th>created_at_month</th>\n",
       "      <th>created_at_day_of_month</th>\n",
       "    </tr>\n",
       "  </thead>\n",
       "  <tbody>\n",
       "    <tr>\n",
       "      <th>0</th>\n",
       "      <td>0</td>\n",
       "      <td>0</td>\n",
       "      <td>ID_DC6S4E9O</td>\n",
       "      <td>X9GR</td>\n",
       "      <td>19:33:13.663391</td>\n",
       "      <td>1</td>\n",
       "      <td>1</td>\n",
       "      <td>16</td>\n",
       "    </tr>\n",
       "    <tr>\n",
       "      <th>1</th>\n",
       "      <td>1</td>\n",
       "      <td>0</td>\n",
       "      <td>ID_E8S97OUT</td>\n",
       "      <td>X9GR</td>\n",
       "      <td>22:18:18.228921</td>\n",
       "      <td>1</td>\n",
       "      <td>12</td>\n",
       "      <td>27</td>\n",
       "    </tr>\n",
       "    <tr>\n",
       "      <th>2</th>\n",
       "      <td>0</td>\n",
       "      <td>0</td>\n",
       "      <td>ID_QZ1HASL3</td>\n",
       "      <td>X9GR</td>\n",
       "      <td>23:13:03.266635</td>\n",
       "      <td>1</td>\n",
       "      <td>1</td>\n",
       "      <td>1</td>\n",
       "    </tr>\n",
       "    <tr>\n",
       "      <th>3</th>\n",
       "      <td>1</td>\n",
       "      <td>0</td>\n",
       "      <td>ID_SDV9Q3E9</td>\n",
       "      <td>X9GR</td>\n",
       "      <td>09:50:09.697573</td>\n",
       "      <td>1</td>\n",
       "      <td>12</td>\n",
       "      <td>27</td>\n",
       "    </tr>\n",
       "    <tr>\n",
       "      <th>4</th>\n",
       "      <td>1</td>\n",
       "      <td>0</td>\n",
       "      <td>ID_W942LN7F</td>\n",
       "      <td>X9GR</td>\n",
       "      <td>13:33:06.531662</td>\n",
       "      <td>1</td>\n",
       "      <td>1</td>\n",
       "      <td>16</td>\n",
       "    </tr>\n",
       "    <tr>\n",
       "      <th>...</th>\n",
       "      <td>...</td>\n",
       "      <td>...</td>\n",
       "      <td>...</td>\n",
       "      <td>...</td>\n",
       "      <td>...</td>\n",
       "      <td>...</td>\n",
       "      <td>...</td>\n",
       "      <td>...</td>\n",
       "    </tr>\n",
       "    <tr>\n",
       "      <th>12408</th>\n",
       "      <td>0</td>\n",
       "      <td>1</td>\n",
       "      <td>ID_C5393PD0</td>\n",
       "      <td>7DKX</td>\n",
       "      <td>05:02:39.352427</td>\n",
       "      <td>1</td>\n",
       "      <td>11</td>\n",
       "      <td>6</td>\n",
       "    </tr>\n",
       "    <tr>\n",
       "      <th>12409</th>\n",
       "      <td>0</td>\n",
       "      <td>1</td>\n",
       "      <td>ID_QX7XRT0C</td>\n",
       "      <td>K4DG</td>\n",
       "      <td>02:50:19.027320</td>\n",
       "      <td>1</td>\n",
       "      <td>3</td>\n",
       "      <td>25</td>\n",
       "    </tr>\n",
       "    <tr>\n",
       "      <th>12410</th>\n",
       "      <td>0</td>\n",
       "      <td>1</td>\n",
       "      <td>ID_RGN2RK66</td>\n",
       "      <td>ONON</td>\n",
       "      <td>22:06:33.713692</td>\n",
       "      <td>1</td>\n",
       "      <td>12</td>\n",
       "      <td>7</td>\n",
       "    </tr>\n",
       "    <tr>\n",
       "      <th>12411</th>\n",
       "      <td>0</td>\n",
       "      <td>0</td>\n",
       "      <td>ID_XZS1QE0W</td>\n",
       "      <td>3YQR</td>\n",
       "      <td>06:56:02.570173</td>\n",
       "      <td>1</td>\n",
       "      <td>5</td>\n",
       "      <td>27</td>\n",
       "    </tr>\n",
       "    <tr>\n",
       "      <th>12412</th>\n",
       "      <td>0</td>\n",
       "      <td>1</td>\n",
       "      <td>ID_8K4FGJYO</td>\n",
       "      <td>G4PG</td>\n",
       "      <td>10:22:54.369939</td>\n",
       "      <td>1</td>\n",
       "      <td>12</td>\n",
       "      <td>5</td>\n",
       "    </tr>\n",
       "  </tbody>\n",
       "</table>\n",
       "<p>12413 rows × 8 columns</p>\n",
       "</div>"
      ],
      "text/plain": [
       "       featurex  featurey      user_id countries_id  created_at_time  \\\n",
       "0             0         0  ID_DC6S4E9O         X9GR  19:33:13.663391   \n",
       "1             1         0  ID_E8S97OUT         X9GR  22:18:18.228921   \n",
       "2             0         0  ID_QZ1HASL3         X9GR  23:13:03.266635   \n",
       "3             1         0  ID_SDV9Q3E9         X9GR  09:50:09.697573   \n",
       "4             1         0  ID_W942LN7F         X9GR  13:33:06.531662   \n",
       "...         ...       ...          ...          ...              ...   \n",
       "12408         0         1  ID_C5393PD0         7DKX  05:02:39.352427   \n",
       "12409         0         1  ID_QX7XRT0C         K4DG  02:50:19.027320   \n",
       "12410         0         1  ID_RGN2RK66         ONON  22:06:33.713692   \n",
       "12411         0         0  ID_XZS1QE0W         3YQR  06:56:02.570173   \n",
       "12412         0         1  ID_8K4FGJYO         G4PG  10:22:54.369939   \n",
       "\n",
       "       created_at_year  created_at_month created_at_day_of_month  \n",
       "0                    1                 1                      16  \n",
       "1                    1                12                      27  \n",
       "2                    1                 1                       1  \n",
       "3                    1                12                      27  \n",
       "4                    1                 1                      16  \n",
       "...                ...               ...                     ...  \n",
       "12408                1                11                       6  \n",
       "12409                1                 3                      25  \n",
       "12410                1                12                       7  \n",
       "12411                1                 5                      27  \n",
       "12412                1                12                       5  \n",
       "\n",
       "[12413 rows x 8 columns]"
      ]
     },
     "execution_count": 12,
     "metadata": {},
     "output_type": "execute_result"
    }
   ],
   "source": [
    "ordered_dict = {'created_at_month': [1,2,3,4,5,6,7,8,9,10,11,12],\n",
    "               'created_at_day_of_month':[1,2,3,4,5,6,7,8,9,10,11,12,13,14,15,16,17,18,19,20,21,22,23,24,25,26,27,28,29,30,31]}\n",
    "ordered(users1,ordered_dict)\n",
    "users1"
   ]
  },
  {
   "cell_type": "markdown",
   "id": "67a89932",
   "metadata": {},
   "source": [
    "### Feature X"
   ]
  },
  {
   "cell_type": "code",
   "execution_count": 13,
   "id": "24135651",
   "metadata": {},
   "outputs": [
    {
     "data": {
      "text/plain": [
       "array([0, 1], dtype=int64)"
      ]
     },
     "execution_count": 13,
     "metadata": {},
     "output_type": "execute_result"
    }
   ],
   "source": [
    "users1.featurex.unique()"
   ]
  },
  {
   "cell_type": "code",
   "execution_count": 14,
   "id": "5749e126",
   "metadata": {},
   "outputs": [],
   "source": [
    "def countplot(df,col):\n",
    "    base_color=sb.color_palette()[0]\n",
    "    plt.figure(figsize=(10,6))\n",
    "    sb.countplot(data = df,x=col,color=base_color)"
   ]
  },
  {
   "cell_type": "code",
   "execution_count": 15,
   "id": "a795df43",
   "metadata": {},
   "outputs": [
    {
     "data": {
      "image/png": "[encoded data removed]",
      "text/plain": [
       "<Figure size 720x432 with 1 Axes>"
      ]
     },
     "metadata": {
      "needs_background": "light"
     },
     "output_type": "display_data"
    }
   ],
   "source": [
    "countplot(users1,'featurex')"
   ]
  },
  {
   "cell_type": "markdown",
   "id": "6645b5ac",
   "metadata": {},
   "source": [
    "### Feature Y"
   ]
  },
  {
   "cell_type": "code",
   "execution_count": 16,
   "id": "7ec622c7",
   "metadata": {},
   "outputs": [
    {
     "data": {
      "text/plain": [
       "array([0, 1, 3], dtype=int64)"
      ]
     },
     "execution_count": 16,
     "metadata": {},
     "output_type": "execute_result"
    }
   ],
   "source": [
    "users1.featurey.unique()"
   ]
  },
  {
   "cell_type": "code",
   "execution_count": 17,
   "id": "3c22929c",
   "metadata": {},
   "outputs": [
    {
     "data": {
      "image/png": "[encoded data removed]",
      "text/plain": [
       "<Figure size 720x432 with 1 Axes>"
      ]
     },
     "metadata": {
      "needs_background": "light"
     },
     "output_type": "display_data"
    }
   ],
   "source": [
    "countplot(users1,'featurey')"
   ]
  },
  {
   "cell_type": "markdown",
   "id": "b138d3ea",
   "metadata": {},
   "source": [
    "### Day of the Month Created"
   ]
  },
  {
   "cell_type": "code",
   "execution_count": 18,
   "id": "ed431bc8",
   "metadata": {},
   "outputs": [
    {
     "data": {
      "text/plain": [
       "array([ 1, 12,  2, 11,  3,  5,  4], dtype=int64)"
      ]
     },
     "execution_count": 18,
     "metadata": {},
     "output_type": "execute_result"
    }
   ],
   "source": [
    "users1.created_at_month.unique()"
   ]
  },
  {
   "cell_type": "code",
   "execution_count": 19,
   "id": "27d83eae",
   "metadata": {},
   "outputs": [
    {
     "data": {
      "image/png": "[encoded data removed]",
      "text/plain": [
       "<Figure size 720x432 with 1 Axes>"
      ]
     },
     "metadata": {
      "needs_background": "light"
     },
     "output_type": "display_data"
    }
   ],
   "source": [
    "countplot(users1,'created_at_day_of_month')\n"
   ]
  },
  {
   "cell_type": "markdown",
   "id": "78d56932",
   "metadata": {},
   "source": [
    "### Month Created"
   ]
  },
  {
   "cell_type": "code",
   "execution_count": 20,
   "id": "1668e9fc",
   "metadata": {},
   "outputs": [
    {
     "data": {
      "image/png": "[encoded data removed]",
      "text/plain": [
       "<Figure size 720x432 with 1 Axes>"
      ]
     },
     "metadata": {
      "needs_background": "light"
     },
     "output_type": "display_data"
    }
   ],
   "source": [
    "countplot(users1,'created_at_month')"
   ]
  },
  {
   "cell_type": "markdown",
   "id": "5d2fe101",
   "metadata": {},
   "source": [
    "## c) Competition"
   ]
  },
  {
   "cell_type": "code",
   "execution_count": 21,
   "id": "25711b36",
   "metadata": {},
   "outputs": [],
   "source": [
    "competition1=competition.copy()"
   ]
  },
  {
   "cell_type": "code",
   "execution_count": 22,
   "id": "210c2723",
   "metadata": {},
   "outputs": [
    {
     "data": {
      "text/html": [
       "<div>\n",
       "<style scoped>\n",
       "    .dataframe tbody tr th:only-of-type {\n",
       "        vertical-align: middle;\n",
       "    }\n",
       "\n",
       "    .dataframe tbody tr th {\n",
       "        vertical-align: top;\n",
       "    }\n",
       "\n",
       "    .dataframe thead th {\n",
       "        text-align: right;\n",
       "    }\n",
       "</style>\n",
       "<table border=\"1\" class=\"dataframe\">\n",
       "  <thead>\n",
       "    <tr style=\"text-align: right;\">\n",
       "      <th></th>\n",
       "      <th>FeatureA</th>\n",
       "      <th>FeatureB</th>\n",
       "      <th>FeatureC</th>\n",
       "      <th>FeatureD</th>\n",
       "      <th>FeatureE</th>\n",
       "      <th>SecretCode</th>\n",
       "      <th>FeatureF</th>\n",
       "      <th>FeatureG</th>\n",
       "      <th>FeatureH</th>\n",
       "      <th>FeatureI</th>\n",
       "      <th>Country_ID</th>\n",
       "      <th>Comp_ID</th>\n",
       "      <th>End Time time</th>\n",
       "      <th>End Time Year</th>\n",
       "      <th>End Time Month</th>\n",
       "      <th>End Time Day_of_month</th>\n",
       "      <th>Start Time time</th>\n",
       "      <th>Start Time Year</th>\n",
       "      <th>Start Time Month</th>\n",
       "      <th>Start Time Day_of_month</th>\n",
       "    </tr>\n",
       "  </thead>\n",
       "  <tbody>\n",
       "    <tr>\n",
       "      <th>0</th>\n",
       "      <td>[2, 4]</td>\n",
       "      <td>[14]</td>\n",
       "      <td>15.0</td>\n",
       "      <td>0</td>\n",
       "      <td>2</td>\n",
       "      <td>1</td>\n",
       "      <td>[3]</td>\n",
       "      <td>[]</td>\n",
       "      <td>[]</td>\n",
       "      <td>NaN</td>\n",
       "      <td>G3F0</td>\n",
       "      <td>ID_AU0T</td>\n",
       "      <td>21:05:00</td>\n",
       "      <td>2.0</td>\n",
       "      <td>6.0</td>\n",
       "      <td>19.0</td>\n",
       "      <td>07:00:00</td>\n",
       "      <td>2</td>\n",
       "      <td>6</td>\n",
       "      <td>19</td>\n",
       "    </tr>\n",
       "    <tr>\n",
       "      <th>1</th>\n",
       "      <td>[1]</td>\n",
       "      <td>[]</td>\n",
       "      <td>3.0</td>\n",
       "      <td>0</td>\n",
       "      <td>3</td>\n",
       "      <td>1</td>\n",
       "      <td>[1]</td>\n",
       "      <td>[]</td>\n",
       "      <td>[1]</td>\n",
       "      <td>3.0</td>\n",
       "      <td>0Q35</td>\n",
       "      <td>ID_O21T</td>\n",
       "      <td>15:30:00</td>\n",
       "      <td>2.0</td>\n",
       "      <td>2.0</td>\n",
       "      <td>15.0</td>\n",
       "      <td>12:00:00</td>\n",
       "      <td>2</td>\n",
       "      <td>2</td>\n",
       "      <td>1</td>\n",
       "    </tr>\n",
       "    <tr>\n",
       "      <th>2</th>\n",
       "      <td>[1]</td>\n",
       "      <td>[9]</td>\n",
       "      <td>2.0</td>\n",
       "      <td>0</td>\n",
       "      <td>2</td>\n",
       "      <td>1</td>\n",
       "      <td>[1, 5]</td>\n",
       "      <td>[5]</td>\n",
       "      <td>[1]</td>\n",
       "      <td>2.0</td>\n",
       "      <td>EGI9</td>\n",
       "      <td>ID_W6XE</td>\n",
       "      <td>21:59:00</td>\n",
       "      <td>2.0</td>\n",
       "      <td>5.0</td>\n",
       "      <td>9.0</td>\n",
       "      <td>08:00:00</td>\n",
       "      <td>2</td>\n",
       "      <td>3</td>\n",
       "      <td>28</td>\n",
       "    </tr>\n",
       "    <tr>\n",
       "      <th>3</th>\n",
       "      <td>[]</td>\n",
       "      <td>[]</td>\n",
       "      <td>1.0</td>\n",
       "      <td>0</td>\n",
       "      <td>2</td>\n",
       "      <td>1</td>\n",
       "      <td>[1]</td>\n",
       "      <td>[4]</td>\n",
       "      <td>[]</td>\n",
       "      <td>NaN</td>\n",
       "      <td>NaN</td>\n",
       "      <td>ID_A2FN</td>\n",
       "      <td>12:00:00</td>\n",
       "      <td>2.0</td>\n",
       "      <td>6.0</td>\n",
       "      <td>22.0</td>\n",
       "      <td>12:00:00</td>\n",
       "      <td>2</td>\n",
       "      <td>6</td>\n",
       "      <td>12</td>\n",
       "    </tr>\n",
       "    <tr>\n",
       "      <th>4</th>\n",
       "      <td>[]</td>\n",
       "      <td>[6]</td>\n",
       "      <td>NaN</td>\n",
       "      <td>0</td>\n",
       "      <td>2</td>\n",
       "      <td>0</td>\n",
       "      <td>[]</td>\n",
       "      <td>[4]</td>\n",
       "      <td>[2]</td>\n",
       "      <td>9.0</td>\n",
       "      <td>NaN</td>\n",
       "      <td>ID_X0PD</td>\n",
       "      <td>23:59:00</td>\n",
       "      <td>2.0</td>\n",
       "      <td>5.0</td>\n",
       "      <td>31.0</td>\n",
       "      <td>09:00:00</td>\n",
       "      <td>2</td>\n",
       "      <td>5</td>\n",
       "      <td>27</td>\n",
       "    </tr>\n",
       "  </tbody>\n",
       "</table>\n",
       "</div>"
      ],
      "text/plain": [
       "  FeatureA FeatureB  FeatureC  FeatureD  FeatureE  SecretCode FeatureF  \\\n",
       "0   [2, 4]     [14]      15.0         0         2           1      [3]   \n",
       "1      [1]       []       3.0         0         3           1      [1]   \n",
       "2      [1]      [9]       2.0         0         2           1   [1, 5]   \n",
       "3       []       []       1.0         0         2           1      [1]   \n",
       "4       []      [6]       NaN         0         2           0       []   \n",
       "\n",
       "  FeatureG FeatureH  FeatureI Country_ID  Comp_ID End Time time  \\\n",
       "0       []       []       NaN       G3F0  ID_AU0T      21:05:00   \n",
       "1       []      [1]       3.0       0Q35  ID_O21T      15:30:00   \n",
       "2      [5]      [1]       2.0       EGI9  ID_W6XE      21:59:00   \n",
       "3      [4]       []       NaN        NaN  ID_A2FN      12:00:00   \n",
       "4      [4]      [2]       9.0        NaN  ID_X0PD      23:59:00   \n",
       "\n",
       "   End Time Year  End Time Month  End Time Day_of_month Start Time time  \\\n",
       "0            2.0             6.0                   19.0        07:00:00   \n",
       "1            2.0             2.0                   15.0        12:00:00   \n",
       "2            2.0             5.0                    9.0        08:00:00   \n",
       "3            2.0             6.0                   22.0        12:00:00   \n",
       "4            2.0             5.0                   31.0        09:00:00   \n",
       "\n",
       "   Start Time Year  Start Time Month  Start Time Day_of_month  \n",
       "0                2                 6                       19  \n",
       "1                2                 2                        1  \n",
       "2                2                 3                       28  \n",
       "3                2                 6                       12  \n",
       "4                2                 5                       27  "
      ]
     },
     "execution_count": 22,
     "metadata": {},
     "output_type": "execute_result"
    }
   ],
   "source": [
    "competition1.head()"
   ]
  },
  {
   "cell_type": "code",
   "execution_count": 23,
   "id": "f52795f6",
   "metadata": {},
   "outputs": [
    {
     "name": "stdout",
     "output_type": "stream",
     "text": [
      "Index(['featurea', 'featureb', 'featurec', 'featured', 'featuree',\n",
      "       'secretcode', 'featuref', 'featureg', 'featureh', 'featurei',\n",
      "       'country_id', 'comp_id', 'end_time_time', 'end_time_year',\n",
      "       'end_time_month', 'end_time_day_of_month', 'start_time_time',\n",
      "       'start_time_year', 'start_time_month', 'start_time_day_of_month'],\n",
      "      dtype='object')\n"
     ]
    }
   ],
   "source": [
    "replace(competition1)"
   ]
  },
  {
   "cell_type": "code",
   "execution_count": 24,
   "id": "a6160c6c",
   "metadata": {},
   "outputs": [],
   "source": [
    "ordered_dict = {'start_time_month': [1,2,3,4,5,6,7,8,9,10,11,12],\n",
    "                'end_time_month' : [1,2,3,4,5,6,7,8,9,10,11,12],\n",
    "               'start_time_day_of_month':[1,2,3,4,5,6,7,8,9,10,11,12,13,14,15,16,17,18,19,20,21,22,23,24,25,26,27,28,29,30,31],\n",
    "               'end_time_day_of_month':[1,2,3,4,5,6,7,8,9,10,11,12,13,14,15,16,17,18,19,20,21,22,23,24,25,26,27,28,29,30,31]}\n",
    "ordered(competition1,ordered_dict)"
   ]
  },
  {
   "cell_type": "code",
   "execution_count": 25,
   "id": "d126e5ec",
   "metadata": {},
   "outputs": [
    {
     "name": "stdout",
     "output_type": "stream",
     "text": [
      "<class 'pandas.core.frame.DataFrame'>\n",
      "RangeIndex: 247 entries, 0 to 246\n",
      "Data columns (total 20 columns):\n",
      " #   Column                   Non-Null Count  Dtype   \n",
      "---  ------                   --------------  -----   \n",
      " 0   featurea                 247 non-null    object  \n",
      " 1   featureb                 247 non-null    object  \n",
      " 2   featurec                 196 non-null    float64 \n",
      " 3   featured                 247 non-null    int64   \n",
      " 4   featuree                 247 non-null    int64   \n",
      " 5   secretcode               247 non-null    int64   \n",
      " 6   featuref                 247 non-null    object  \n",
      " 7   featureg                 247 non-null    object  \n",
      " 8   featureh                 247 non-null    object  \n",
      " 9   featurei                 186 non-null    float64 \n",
      " 10  country_id               121 non-null    object  \n",
      " 11  comp_id                  247 non-null    object  \n",
      " 12  end_time_time            224 non-null    object  \n",
      " 13  end_time_year            224 non-null    float64 \n",
      " 14  end_time_month           224 non-null    float64 \n",
      " 15  end_time_day_of_month    224 non-null    category\n",
      " 16  start_time_time          247 non-null    object  \n",
      " 17  start_time_year          247 non-null    int64   \n",
      " 18  start_time_month         247 non-null    int64   \n",
      " 19  start_time_day_of_month  247 non-null    int64   \n",
      "dtypes: category(1), float64(4), int64(6), object(9)\n",
      "memory usage: 38.3+ KB\n"
     ]
    }
   ],
   "source": [
    "competition1.info()"
   ]
  },
  {
   "cell_type": "code",
   "execution_count": 26,
   "id": "9988b22d",
   "metadata": {},
   "outputs": [
    {
     "data": {
      "text/html": [
       "<div>\n",
       "<style scoped>\n",
       "    .dataframe tbody tr th:only-of-type {\n",
       "        vertical-align: middle;\n",
       "    }\n",
       "\n",
       "    .dataframe tbody tr th {\n",
       "        vertical-align: top;\n",
       "    }\n",
       "\n",
       "    .dataframe thead th {\n",
       "        text-align: right;\n",
       "    }\n",
       "</style>\n",
       "<table border=\"1\" class=\"dataframe\">\n",
       "  <thead>\n",
       "    <tr style=\"text-align: right;\">\n",
       "      <th></th>\n",
       "      <th>featurec</th>\n",
       "      <th>featured</th>\n",
       "      <th>featuree</th>\n",
       "      <th>secretcode</th>\n",
       "      <th>featurei</th>\n",
       "      <th>end_time_year</th>\n",
       "      <th>end_time_month</th>\n",
       "      <th>start_time_year</th>\n",
       "      <th>start_time_month</th>\n",
       "      <th>start_time_day_of_month</th>\n",
       "    </tr>\n",
       "  </thead>\n",
       "  <tbody>\n",
       "    <tr>\n",
       "      <th>count</th>\n",
       "      <td>196.000000</td>\n",
       "      <td>247.000000</td>\n",
       "      <td>247.000000</td>\n",
       "      <td>247.000000</td>\n",
       "      <td>186.000000</td>\n",
       "      <td>224.000000</td>\n",
       "      <td>224.000000</td>\n",
       "      <td>247.000000</td>\n",
       "      <td>247.000000</td>\n",
       "      <td>247.000000</td>\n",
       "    </tr>\n",
       "    <tr>\n",
       "      <th>mean</th>\n",
       "      <td>11.790816</td>\n",
       "      <td>0.461538</td>\n",
       "      <td>2.170040</td>\n",
       "      <td>0.433198</td>\n",
       "      <td>11.806452</td>\n",
       "      <td>11.138393</td>\n",
       "      <td>6.031250</td>\n",
       "      <td>2.319838</td>\n",
       "      <td>5.789474</td>\n",
       "      <td>16.040486</td>\n",
       "    </tr>\n",
       "    <tr>\n",
       "      <th>std</th>\n",
       "      <td>10.379077</td>\n",
       "      <td>0.499531</td>\n",
       "      <td>0.544217</td>\n",
       "      <td>0.496524</td>\n",
       "      <td>10.563843</td>\n",
       "      <td>135.029289</td>\n",
       "      <td>3.554055</td>\n",
       "      <td>1.073958</td>\n",
       "      <td>3.597115</td>\n",
       "      <td>8.983181</td>\n",
       "    </tr>\n",
       "    <tr>\n",
       "      <th>min</th>\n",
       "      <td>1.000000</td>\n",
       "      <td>0.000000</td>\n",
       "      <td>1.000000</td>\n",
       "      <td>0.000000</td>\n",
       "      <td>1.000000</td>\n",
       "      <td>1.000000</td>\n",
       "      <td>1.000000</td>\n",
       "      <td>1.000000</td>\n",
       "      <td>1.000000</td>\n",
       "      <td>1.000000</td>\n",
       "    </tr>\n",
       "    <tr>\n",
       "      <th>25%</th>\n",
       "      <td>3.000000</td>\n",
       "      <td>0.000000</td>\n",
       "      <td>2.000000</td>\n",
       "      <td>0.000000</td>\n",
       "      <td>3.250000</td>\n",
       "      <td>1.000000</td>\n",
       "      <td>3.000000</td>\n",
       "      <td>1.000000</td>\n",
       "      <td>3.000000</td>\n",
       "      <td>8.000000</td>\n",
       "    </tr>\n",
       "    <tr>\n",
       "      <th>50%</th>\n",
       "      <td>8.500000</td>\n",
       "      <td>0.000000</td>\n",
       "      <td>2.000000</td>\n",
       "      <td>0.000000</td>\n",
       "      <td>9.000000</td>\n",
       "      <td>2.000000</td>\n",
       "      <td>5.000000</td>\n",
       "      <td>2.000000</td>\n",
       "      <td>5.000000</td>\n",
       "      <td>17.000000</td>\n",
       "    </tr>\n",
       "    <tr>\n",
       "      <th>75%</th>\n",
       "      <td>19.250000</td>\n",
       "      <td>1.000000</td>\n",
       "      <td>2.000000</td>\n",
       "      <td>1.000000</td>\n",
       "      <td>19.750000</td>\n",
       "      <td>3.000000</td>\n",
       "      <td>9.250000</td>\n",
       "      <td>3.000000</td>\n",
       "      <td>9.000000</td>\n",
       "      <td>24.000000</td>\n",
       "    </tr>\n",
       "    <tr>\n",
       "      <th>max</th>\n",
       "      <td>37.000000</td>\n",
       "      <td>1.000000</td>\n",
       "      <td>3.000000</td>\n",
       "      <td>1.000000</td>\n",
       "      <td>37.000000</td>\n",
       "      <td>2023.000000</td>\n",
       "      <td>12.000000</td>\n",
       "      <td>5.000000</td>\n",
       "      <td>12.000000</td>\n",
       "      <td>31.000000</td>\n",
       "    </tr>\n",
       "  </tbody>\n",
       "</table>\n",
       "</div>"
      ],
      "text/plain": [
       "         featurec    featured    featuree  secretcode    featurei  \\\n",
       "count  196.000000  247.000000  247.000000  247.000000  186.000000   \n",
       "mean    11.790816    0.461538    2.170040    0.433198   11.806452   \n",
       "std     10.379077    0.499531    0.544217    0.496524   10.563843   \n",
       "min      1.000000    0.000000    1.000000    0.000000    1.000000   \n",
       "25%      3.000000    0.000000    2.000000    0.000000    3.250000   \n",
       "50%      8.500000    0.000000    2.000000    0.000000    9.000000   \n",
       "75%     19.250000    1.000000    2.000000    1.000000   19.750000   \n",
       "max     37.000000    1.000000    3.000000    1.000000   37.000000   \n",
       "\n",
       "       end_time_year  end_time_month  start_time_year  start_time_month  \\\n",
       "count     224.000000      224.000000       247.000000        247.000000   \n",
       "mean       11.138393        6.031250         2.319838          5.789474   \n",
       "std       135.029289        3.554055         1.073958          3.597115   \n",
       "min         1.000000        1.000000         1.000000          1.000000   \n",
       "25%         1.000000        3.000000         1.000000          3.000000   \n",
       "50%         2.000000        5.000000         2.000000          5.000000   \n",
       "75%         3.000000        9.250000         3.000000          9.000000   \n",
       "max      2023.000000       12.000000         5.000000         12.000000   \n",
       "\n",
       "       start_time_day_of_month  \n",
       "count               247.000000  \n",
       "mean                 16.040486  \n",
       "std                   8.983181  \n",
       "min                   1.000000  \n",
       "25%                   8.000000  \n",
       "50%                  17.000000  \n",
       "75%                  24.000000  \n",
       "max                  31.000000  "
      ]
     },
     "execution_count": 26,
     "metadata": {},
     "output_type": "execute_result"
    }
   ],
   "source": [
    "competition1.describe()"
   ]
  },
  {
   "cell_type": "code",
   "execution_count": 27,
   "id": "e59df106",
   "metadata": {},
   "outputs": [
    {
     "data": {
      "text/html": [
       "<div>\n",
       "<style scoped>\n",
       "    .dataframe tbody tr th:only-of-type {\n",
       "        vertical-align: middle;\n",
       "    }\n",
       "\n",
       "    .dataframe tbody tr th {\n",
       "        vertical-align: top;\n",
       "    }\n",
       "\n",
       "    .dataframe thead th {\n",
       "        text-align: right;\n",
       "    }\n",
       "</style>\n",
       "<table border=\"1\" class=\"dataframe\">\n",
       "  <thead>\n",
       "    <tr style=\"text-align: right;\">\n",
       "      <th></th>\n",
       "      <th>featurea</th>\n",
       "      <th>featureb</th>\n",
       "      <th>featurec</th>\n",
       "      <th>featured</th>\n",
       "      <th>featuree</th>\n",
       "      <th>secretcode</th>\n",
       "      <th>featuref</th>\n",
       "      <th>featureg</th>\n",
       "      <th>featureh</th>\n",
       "      <th>featurei</th>\n",
       "      <th>country_id</th>\n",
       "      <th>comp_id</th>\n",
       "      <th>end_time_time</th>\n",
       "      <th>end_time_year</th>\n",
       "      <th>end_time_month</th>\n",
       "      <th>end_time_day_of_month</th>\n",
       "      <th>start_time_time</th>\n",
       "      <th>start_time_year</th>\n",
       "      <th>start_time_month</th>\n",
       "      <th>start_time_day_of_month</th>\n",
       "    </tr>\n",
       "  </thead>\n",
       "  <tbody>\n",
       "    <tr>\n",
       "      <th>206</th>\n",
       "      <td>[1]</td>\n",
       "      <td>[]</td>\n",
       "      <td>NaN</td>\n",
       "      <td>1</td>\n",
       "      <td>2</td>\n",
       "      <td>0</td>\n",
       "      <td>[1]</td>\n",
       "      <td>[3]</td>\n",
       "      <td>[1]</td>\n",
       "      <td>NaN</td>\n",
       "      <td>NaN</td>\n",
       "      <td>ID_CFN7</td>\n",
       "      <td>23:09:00</td>\n",
       "      <td>2023.0</td>\n",
       "      <td>9.0</td>\n",
       "      <td>12</td>\n",
       "      <td>06:00:00</td>\n",
       "      <td>1</td>\n",
       "      <td>5</td>\n",
       "      <td>14</td>\n",
       "    </tr>\n",
       "  </tbody>\n",
       "</table>\n",
       "</div>"
      ],
      "text/plain": [
       "    featurea featureb  featurec  featured  featuree  secretcode featuref  \\\n",
       "206      [1]       []       NaN         1         2           0      [1]   \n",
       "\n",
       "    featureg featureh  featurei country_id  comp_id end_time_time  \\\n",
       "206      [3]      [1]       NaN        NaN  ID_CFN7      23:09:00   \n",
       "\n",
       "     end_time_year  end_time_month end_time_day_of_month start_time_time  \\\n",
       "206         2023.0             9.0                    12        06:00:00   \n",
       "\n",
       "     start_time_year  start_time_month  start_time_day_of_month  \n",
       "206                1                 5                       14  "
      ]
     },
     "execution_count": 27,
     "metadata": {},
     "output_type": "execute_result"
    }
   ],
   "source": [
    "competition1.loc[competition1['end_time_year'] == 2023]"
   ]
  },
  {
   "cell_type": "code",
   "execution_count": 28,
   "id": "e4099cd0",
   "metadata": {},
   "outputs": [
    {
     "data": {
      "image/png": "[encoded data removed]",
      "text/plain": [
       "<Figure size 720x432 with 1 Axes>"
      ]
     },
     "metadata": {
      "needs_background": "light"
     },
     "output_type": "display_data"
    }
   ],
   "source": [
    "countplot(competition1,'end_time_month')"
   ]
  },
  {
   "cell_type": "code",
   "execution_count": 29,
   "id": "9e8ffcd4",
   "metadata": {},
   "outputs": [
    {
     "data": {
      "image/png": "[encoded data removed]",
      "text/plain": [
       "<Figure size 720x432 with 1 Axes>"
      ]
     },
     "metadata": {
      "needs_background": "light"
     },
     "output_type": "display_data"
    }
   ],
   "source": [
    "countplot(competition1,'start_time_month')"
   ]
  },
  {
   "cell_type": "code",
   "execution_count": 30,
   "id": "f346710a",
   "metadata": {},
   "outputs": [
    {
     "data": {
      "image/png": "[encoded data removed]",
      "text/plain": [
       "<Figure size 720x432 with 1 Axes>"
      ]
     },
     "metadata": {
      "needs_background": "light"
     },
     "output_type": "display_data"
    }
   ],
   "source": [
    "countplot(competition1,'start_time_year')"
   ]
  },
  {
   "cell_type": "code",
   "execution_count": 31,
   "id": "27be49ae",
   "metadata": {},
   "outputs": [
    {
     "data": {
      "text/plain": [
       "array([15.,  3.,  2.,  1., nan,  9., 10., 21., 25.,  6.,  7.,  4., 22.,\n",
       "       11., 18., 17., 23., 20., 31., 29.,  5., 12., 27.,  8., 34., 35.,\n",
       "       37., 36., 13., 28., 30., 32., 33., 16., 26., 14., 19., 24.])"
      ]
     },
     "execution_count": 31,
     "metadata": {},
     "output_type": "execute_result"
    }
   ],
   "source": [
    "competition1.featurec.unique()"
   ]
  },
  {
   "cell_type": "code",
   "execution_count": 32,
   "id": "f1e1904b",
   "metadata": {},
   "outputs": [
    {
     "data": {
      "text/plain": [
       "array(['[2, 4]', '[1]', '[]', '[5, 2]', '[2]', '[3, 2]', '[3]', '[6, 1]',\n",
       "       '[6]', '[1, 6]', '[1, 5, 4]', '[4, 7, 2]', '[8]', '[1, 3]',\n",
       "       '[2, 3]', '[5]', '[4]', '[7, 3, 2]', '[4, 2]', '[2, 10, 3]',\n",
       "       '[1, 4, 5]', '[7]', '[2, 4, 5]', '[3, 7]', '[5, 4]', '[1, 7]',\n",
       "       '[1, 9]', '[2, 7]'], dtype=object)"
      ]
     },
     "execution_count": 32,
     "metadata": {},
     "output_type": "execute_result"
    }
   ],
   "source": [
    "competition1.featurea.unique()"
   ]
  },
  {
   "cell_type": "code",
   "execution_count": 33,
   "id": "06a28ceb",
   "metadata": {},
   "outputs": [
    {
     "data": {
      "text/plain": [
       "array(['[14]', '[]', '[9]', '[6]', '[15]', '[10]', '[12]', '[16]',\n",
       "       '[14, 8]', '[5]', '[7]', '[5, 7]', '[1]', '[14, 7]', '[6, 5]',\n",
       "       '[7, 5, 14]', '[12, 16]', '[2]', '[5, 6]', '[7, 5]'], dtype=object)"
      ]
     },
     "execution_count": 33,
     "metadata": {},
     "output_type": "execute_result"
    }
   ],
   "source": [
    "competition1.featureb.unique()"
   ]
  },
  {
   "cell_type": "markdown",
   "id": "04890b49",
   "metadata": {},
   "source": [
    "### d) User Activity"
   ]
  },
  {
   "cell_type": "code",
   "execution_count": 34,
   "id": "3a57da60",
   "metadata": {},
   "outputs": [],
   "source": [
    "user_activity1=user_activity.copy()"
   ]
  },
  {
   "cell_type": "code",
   "execution_count": 35,
   "id": "6a55f91e",
   "metadata": {},
   "outputs": [
    {
     "data": {
      "text/html": [
       "<div>\n",
       "<style scoped>\n",
       "    .dataframe tbody tr th:only-of-type {\n",
       "        vertical-align: middle;\n",
       "    }\n",
       "\n",
       "    .dataframe tbody tr th {\n",
       "        vertical-align: top;\n",
       "    }\n",
       "\n",
       "    .dataframe thead th {\n",
       "        text-align: right;\n",
       "    }\n",
       "</style>\n",
       "<table border=\"1\" class=\"dataframe\">\n",
       "  <thead>\n",
       "    <tr style=\"text-align: right;\">\n",
       "      <th></th>\n",
       "      <th>User_ID</th>\n",
       "      <th>Title</th>\n",
       "      <th>datetime time</th>\n",
       "      <th>datetime Year</th>\n",
       "      <th>datetime Month</th>\n",
       "      <th>datetime Day_of_month</th>\n",
       "    </tr>\n",
       "  </thead>\n",
       "  <tbody>\n",
       "    <tr>\n",
       "      <th>0</th>\n",
       "      <td>ID_RT43AK77</td>\n",
       "      <td>comp_ID_IV5D</td>\n",
       "      <td>22:00:38</td>\n",
       "      <td>1</td>\n",
       "      <td>11</td>\n",
       "      <td>22</td>\n",
       "    </tr>\n",
       "    <tr>\n",
       "      <th>1</th>\n",
       "      <td>ID_RT43AK77</td>\n",
       "      <td>comp_ID_IV5D</td>\n",
       "      <td>00:41:02</td>\n",
       "      <td>1</td>\n",
       "      <td>11</td>\n",
       "      <td>23</td>\n",
       "    </tr>\n",
       "    <tr>\n",
       "      <th>2</th>\n",
       "      <td>ID_RT43AK77</td>\n",
       "      <td>comp_ID_IV5D</td>\n",
       "      <td>00:53:15</td>\n",
       "      <td>1</td>\n",
       "      <td>11</td>\n",
       "      <td>23</td>\n",
       "    </tr>\n",
       "    <tr>\n",
       "      <th>3</th>\n",
       "      <td>ID_RT43AK77</td>\n",
       "      <td>comp_ID_IV5D</td>\n",
       "      <td>01:23:05</td>\n",
       "      <td>1</td>\n",
       "      <td>11</td>\n",
       "      <td>23</td>\n",
       "    </tr>\n",
       "    <tr>\n",
       "      <th>4</th>\n",
       "      <td>ID_RT43AK77</td>\n",
       "      <td>comp_ID_IV5D</td>\n",
       "      <td>01:27:38</td>\n",
       "      <td>1</td>\n",
       "      <td>11</td>\n",
       "      <td>23</td>\n",
       "    </tr>\n",
       "  </tbody>\n",
       "</table>\n",
       "</div>"
      ],
      "text/plain": [
       "       User_ID         Title datetime time  datetime Year  datetime Month  \\\n",
       "0  ID_RT43AK77  comp_ID_IV5D      22:00:38              1              11   \n",
       "1  ID_RT43AK77  comp_ID_IV5D      00:41:02              1              11   \n",
       "2  ID_RT43AK77  comp_ID_IV5D      00:53:15              1              11   \n",
       "3  ID_RT43AK77  comp_ID_IV5D      01:23:05              1              11   \n",
       "4  ID_RT43AK77  comp_ID_IV5D      01:27:38              1              11   \n",
       "\n",
       "   datetime Day_of_month  \n",
       "0                     22  \n",
       "1                     23  \n",
       "2                     23  \n",
       "3                     23  \n",
       "4                     23  "
      ]
     },
     "execution_count": 35,
     "metadata": {},
     "output_type": "execute_result"
    }
   ],
   "source": [
    "user_activity1.head()"
   ]
  },
  {
   "cell_type": "code",
   "execution_count": 37,
   "id": "f5a1dc2c",
   "metadata": {},
   "outputs": [
    {
     "name": "stdout",
     "output_type": "stream",
     "text": [
      "Index(['user_id', 'title', 'datetime_time', 'datetime_year', 'datetime_month',\n",
      "       'datetime_day_of_month'],\n",
      "      dtype='object')\n"
     ]
    }
   ],
   "source": [
    "replace(user_activity1)"
   ]
  },
  {
   "cell_type": "code",
   "execution_count": 38,
   "id": "e665f1ff",
   "metadata": {
    "collapsed": true
   },
   "outputs": [
    {
     "data": {
      "text/plain": [
       "array(['comp_ID_IV5D', 'comp_ID_M3ST', 'comp_ID_ZN92', 'comp_ID_DD5S',\n",
       "       'comp_ID_1261', 'comp_ID_X0PD', 'comp_ID_L3EB', 'comp_ID_JPR9',\n",
       "       'comp_ID_TDAE', 'comp_ID_Q8XJ', 'comp_ID_PDKH', 'comp_ID_NKJR',\n",
       "       'comp_ID_AL6C', 'comp_ID_JX23', 'comp_ID_YDM3', 'comp_ID_8B8I',\n",
       "       'comp_ID_UU4Y', 'comp_ID_56O8', 'comp_ID_GR92', 'comp_ID_I9BN',\n",
       "       'comp_ID_M3G0', 'comp_ID_V0FX', 'comp_ID_528W', 'comp_ID_JRC2',\n",
       "       'comp_ID_F7QD', 'comp_ID_D3SA', 'comp_ID_0SN1', 'comp_ID_GWL0',\n",
       "       'comp_ID_WOVD', 'comp_ID_VGMZ', 'comp_ID_J883', 'comp_ID_Y6FW',\n",
       "       'comp_ID_6E1C', 'comp_ID_PB3Q', 'comp_ID_3RMM', 'comp_ID_P8BQ',\n",
       "       'comp_ID_3URQ', 'comp_ID_8LGP', 'comp_ID_RBCT', 'comp_ID_Y4Y2',\n",
       "       'comp_ID_CFN7', 'comp_ID_1DWD', 'comp_ID_GVGW', 'comp_ID_KESL',\n",
       "       'comp_ID_20XL', 'comp_ID_W18I', 'comp_ID_U2NJ', 'comp_ID_PJZC',\n",
       "       'comp_ID_MN35', 'comp_ID_IRWB', 'comp_ID_XRP7', 'comp_ID_HCST',\n",
       "       'comp_ID_1CTF', 'comp_ID_AS79', 'comp_ID_CNBR', 'comp_ID_J5IZ',\n",
       "       'comp_ID_64EM', 'comp_ID_WZ0H', 'comp_ID_8BH9', 'comp_ID_CYEF',\n",
       "       'comp_ID_L9R0', 'comp_ID_HGJN', 'comp_ID_9BU8', 'comp_ID_540G',\n",
       "       'comp_ID_PH4T', 'comp_ID_CR6P', 'comp_ID_YCUK', 'comp_ID_3UCL',\n",
       "       'comp_ID_1Q60', 'comp_ID_GJXR', 'comp_ID_FZ48', 'comp_ID_GAV9',\n",
       "       'comp_ID_KU2G', 'comp_ID_65GC', 'comp_ID_8SHD', 'comp_ID_6IDY',\n",
       "       'comp_ID_QPSR', 'comp_ID_BXIL', 'comp_ID_XZ71', 'comp_ID_KGUF',\n",
       "       'comp_ID_BARV', 'comp_ID_3IOH', 'comp_ID_3AG0', 'comp_ID_0W7H',\n",
       "       'comp_ID_2MIC', 'comp_ID_G5IQ', 'comp_ID_9TS1', 'comp_ID_89DI',\n",
       "       'comp_ID_5NAE', 'comp_ID_X2AS', 'comp_ID_OINS', 'comp_ID_WPP3',\n",
       "       'comp_ID_7CF2', 'comp_ID_53GM', 'comp_ID_9ZB7', 'comp_ID_XDNX',\n",
       "       'comp_ID_6TH5', 'comp_ID_PNHR', 'comp_ID_IHRZ', 'comp_ID_E1KX',\n",
       "       'comp_ID_51ZG', 'comp_ID_UNH6', 'comp_ID_FM77', 'comp_ID_O21T',\n",
       "       'comp_ID_XOAY', 'comp_ID_3MK3', 'comp_ID_UILN', 'comp_ID_4B7L',\n",
       "       'comp_ID_U18G', 'comp_ID_OXOJ', 'comp_ID_ZXV0', 'comp_ID_UB7R',\n",
       "       'comp_ID_1ZWS', 'comp_ID_PR4E', 'comp_ID_0D02', 'comp_ID_WWVF',\n",
       "       'comp_ID_CMWO', 'comp_ID_HCN1', 'comp_ID_IMTG', 'comp_ID_8DGC',\n",
       "       'comp_ID_EPVA', 'comp_ID_N5MO', 'comp_ID_WOCO', 'comp_ID_ZGS4',\n",
       "       'comp_ID_G05Z', 'comp_ID_265I', 'comp_ID_KHED', 'comp_ID_8FTV',\n",
       "       'comp_ID_D6NX', 'comp_ID_M3O9', 'comp_ID_MCI7', 'comp_ID_REO7',\n",
       "       'comp_ID_Q2OB', 'comp_ID_XGAO', 'comp_ID_Q02Q', 'comp_ID_A1ZA',\n",
       "       'comp_ID_OAR6', 'comp_ID_W3NK', 'comp_ID_NKEA', 'comp_ID_ONW3',\n",
       "       'comp_ID_NT1N', 'comp_ID_5BJR', 'comp_ID_FCRM', 'comp_ID_DFKK',\n",
       "       'comp_ID_F5JG', 'comp_ID_OP12', 'comp_ID_EUJS', 'comp_ID_RAP1',\n",
       "       'comp_ID_FN7K', 'comp_ID_D242', 'comp_ID_XEGI', 'comp_ID_IQLI',\n",
       "       'comp_ID_BR9A', 'comp_ID_C8Q1', 'comp_ID_A3AQ', 'comp_ID_44CX',\n",
       "       'comp_ID_45W9', 'comp_ID_5KD8', 'comp_ID_0CNQ', 'comp_ID_5C2H',\n",
       "       'comp_ID_XDE3', 'comp_ID_SHBM', 'comp_ID_0GRZ', 'comp_ID_NLBB',\n",
       "       'comp_ID_63DF', 'comp_ID_CVUS', 'comp_ID_Y1UE', 'comp_ID_5GMH',\n",
       "       'comp_ID_BZV0', 'comp_ID_I3OK', 'comp_ID_P6MW', 'comp_ID_R181',\n",
       "       'comp_ID_W6XE', 'comp_ID_LSIO', 'comp_ID_381F', 'comp_ID_44UB',\n",
       "       'comp_ID_0Y9T', 'comp_ID_OMHL', 'comp_ID_7YDI', 'comp_ID_T2XN',\n",
       "       'comp_ID_V0UK', 'comp_ID_ZD6R', 'comp_ID_M7TY', 'comp_ID_EJ2F',\n",
       "       'comp_ID_U1S6', 'comp_ID_LFJT', 'comp_ID_XUWA', 'comp_ID_BGIG',\n",
       "       'comp_ID_H4V5', 'comp_ID_C7ZC', 'comp_ID_P0LI', 'comp_ID_LI7I',\n",
       "       'comp_ID_LNF6', 'comp_ID_6QJX', 'comp_ID_XA3H', 'comp_ID_64I3',\n",
       "       'comp_ID_MCVZ', 'comp_ID_PA74', 'comp_ID_T55S', 'comp_ID_OYCF',\n",
       "       'comp_ID_NNXV', 'comp_ID_61E9', 'comp_ID_MRYN', 'comp_ID_H3QQ',\n",
       "       'comp_ID_8OX0', 'comp_ID_G2JT', 'comp_ID_70XX', 'comp_ID_CMER',\n",
       "       'comp_ID_P9B6', 'comp_ID_UCC7', 'comp_ID_QZNG', 'comp_ID_D5GE',\n",
       "       'comp_ID_W9RN', 'comp_ID_IVH9', 'comp_ID_9SBO', 'comp_ID_208Z',\n",
       "       'comp_ID_P87E', 'comp_ID_RN5G', 'comp_ID_ISCU', 'comp_ID_TJK9',\n",
       "       'comp_ID_TBXU', 'comp_ID_WWZ3', 'comp_ID_SHV2', 'comp_ID_30XH',\n",
       "       'comp_ID_7079', 'comp_ID_66QC', 'comp_ID_S5ED', 'comp_ID_A2FN',\n",
       "       'comp_ID_5J59', 'job_ID_3CPP', 'job_ID_5ONI', 'job_ID_J62B',\n",
       "       'job_ID_R7BC', 'job_ID_JYTV', 'job_ID_P6Q8', 'job_ID_T5KV',\n",
       "       'job_ID_FTTN', 'job_ID_4V5P', 'job_ID_ZTPN', 'job_ID_93OJ',\n",
       "       'job_ID_VJ43', 'job_ID_1BD0', 'job_ID_1PBU', 'job_ID_JJTS',\n",
       "       'job_ID_7YKR', 'job_ID_GYGN', 'job_ID_PZHM', 'job_ID_P0AF',\n",
       "       'job_ID_L3KN', 'job_ID_X4AC', 'job_ID_147X', 'job_ID_KP8G',\n",
       "       'job_ID_SOPZ', 'job_ID_BXB1', 'job_ID_54A8', 'job_ID_QZLH',\n",
       "       'job_ID_QM44', 'job_ID_BJ32', 'job_ID_128W', 'blog_ID_HJAO',\n",
       "       'blog_ID_YEJW', 'blog_ID_4ZAC', 'blog_ID_J1DN', 'blog_ID_V2LR',\n",
       "       'blog_ID_AL0Q', 'blog_ID_R326', 'blog_ID_21DG', 'blog_ID_8F65',\n",
       "       'blog_ID_KRWI', 'blog_ID_EHBF', 'blog_ID_6FNJ', 'blog_ID_Q2AQ',\n",
       "       'blog_ID_0G4L', 'blog_ID_71PM', 'blog_ID_YV8T', 'blog_ID_S3A0',\n",
       "       'blog_ID_QETJ', 'blog_ID_NEQG', 'blog_ID_J25H', 'blog_ID_WXGL',\n",
       "       'blog_ID_IQMY', 'blog_ID_A74U', 'blog_ID_OQBH', 'blog_ID_70AO',\n",
       "       'blog_ID_2MAO', 'blog_ID_5QSJ', 'blog_ID_81CM', 'blog_ID_KFKU',\n",
       "       'blog_ID_SEBQ', 'blog_ID_ZXUY', 'blog_ID_GZ7Z', 'blog_ID_JR8K',\n",
       "       'blog_ID_4EIQ', 'blog_ID_C1US', 'blog_ID_NTRF', 'blog_ID_7HKO',\n",
       "       'blog_ID_BYHB', 'blog_ID_FMYJ', 'blog_ID_Q3F6', 'blog_ID_JUB6',\n",
       "       'blog_ID_Y3QI', 'blog_ID_SP1U', 'blog_ID_EUC8', 'blog_ID_HAQH',\n",
       "       'blog_ID_LOO5', 'blog_ID_VIQ1', 'blog_ID_E7A3', 'blog_ID_3MK5',\n",
       "       'blog_ID_QR5X', 'blog_ID_I8XE', 'blog_ID_UD7C', 'blog_ID_QEGV',\n",
       "       'blog_ID_2Q87', 'blog_ID_23W7', 'blog_ID_RG6P', 'blog_ID_PTSN',\n",
       "       'blog_ID_7GVR', 'blog_ID_X8ZV', 'blog_ID_HHYP', 'blog_ID_L4XI',\n",
       "       'blog_ID_OD7E', 'blog_ID_7QFL', 'blog_ID_TTTU', 'blog_ID_K7ZU',\n",
       "       'blog_ID_VXPF', 'blog_ID_Z6MM', 'blog_ID_GOJM', 'blog_ID_ATLA',\n",
       "       'blog_ID_DBCO', 'blog_ID_HOZ3', 'blog_ID_ZZKK', 'blog_ID_A8QW',\n",
       "       'blog_ID_3MFP', 'blog_ID_F3TO', 'blog_ID_N048', 'blog_ID_LGNV',\n",
       "       'blog_ID_406V', 'blog_ID_XNC8', 'blog_ID_TUSP', 'blog_ID_LZRD',\n",
       "       'blog_ID_R97T', 'blog_ID_NVX3', 'blog_ID_PNAQ', 'blog_ID_20QL',\n",
       "       'blog_ID_9RIT', 'blog_ID_13GX', 'blog_ID_FE45', 'blog_ID_WOOH',\n",
       "       'blog_ID_UTI2', 'blog_ID_M6X6', 'blog_ID_BYCA', 'blog_ID_WP2W',\n",
       "       'blog_ID_EY3D', 'blog_ID_IDAV', 'blog_ID_AKY2', 'blog_ID_7JVL',\n",
       "       'blog_ID_22WI', 'blog_ID_RY9N', 'blog_ID_9CDA', '$create_alias',\n",
       "       '$identify', 'Signed Up', 'Viewed All Competitions',\n",
       "       'Viewed All Discussions', 'Viewed All Learning Pages',\n",
       "       'Confirmed Email', 'Joined Competition',\n",
       "       'Downloaded Competition Datafile', 'Signed In',\n",
       "       'Updated Discussion', 'Joined Team', 'Created Submission',\n",
       "       'Viewed Discussion', 'Updated Submission', 'Signed Out',\n",
       "       'badge_OCZE', 'Updated Profile', 'Viewed FAQ', 'Viewed All Jobs',\n",
       "       'Created Team', 'Invited Member To Team', 'Updated Team',\n",
       "       'Updated Comment', 'Updated Discussion Team Participants',\n",
       "       'badge_HYIO', 'badge_MLPD', 'Applied To Job', 'Votes (Up/Down)',\n",
       "       'Transferred Team Leadership', 'badge_PLDS', 'Changed Password',\n",
       "       'Deleted Team', 'Accepted Team Leadership Transfer',\n",
       "       'Revoked Team Leadership Transfer', 'Report Something',\n",
       "       'Kicked Member From Team', 'Left Team'], dtype=object)"
      ]
     },
     "execution_count": 38,
     "metadata": {},
     "output_type": "execute_result"
    }
   ],
   "source": [
    "user_activity1.title.unique()"
   ]
  },
  {
   "cell_type": "code",
   "execution_count": 47,
   "id": "43ed42af",
   "metadata": {},
   "outputs": [
    {
     "name": "stdout",
     "output_type": "stream",
     "text": [
      "<class 'pandas.core.frame.DataFrame'>\n",
      "RangeIndex: 317292 entries, 0 to 317291\n",
      "Data columns (total 6 columns):\n",
      " #   Column                 Non-Null Count   Dtype   \n",
      "---  ------                 --------------   -----   \n",
      " 0   user_id                317292 non-null  object  \n",
      " 1   title                  317292 non-null  object  \n",
      " 2   datetime_time          317292 non-null  object  \n",
      " 3   datetime_year          317292 non-null  int64   \n",
      " 4   datetime_month         317292 non-null  int64   \n",
      " 5   datetime_day_of_month  317292 non-null  category\n",
      "dtypes: category(1), int64(2), object(3)\n",
      "memory usage: 12.4+ MB\n"
     ]
    }
   ],
   "source": [
    "user_activity1.info()"
   ]
  },
  {
   "cell_type": "code",
   "execution_count": 39,
   "id": "36a73431",
   "metadata": {},
   "outputs": [],
   "source": [
    "ordered_dict = {'datetime_month': [1,2,3,4,5,6,7,8,9,10,11,12],\n",
    "               'datetime_day_of_month':[1,2,3,4,5,6,7,8,9,10,11,12,13,14,15,16,17,18,19,20,21,22,23,24,25,26,27,28,29,30,31]}\n",
    "ordered(user_activity1,ordered_dict)"
   ]
  },
  {
   "cell_type": "code",
   "execution_count": 40,
   "id": "ef37b126",
   "metadata": {},
   "outputs": [
    {
     "data": {
      "image/png": "[encoded data removed]",
      "text/plain": [
       "<Figure size 720x432 with 1 Axes>"
      ]
     },
     "metadata": {
      "needs_background": "light"
     },
     "output_type": "display_data"
    }
   ],
   "source": [
    "countplot(user_activity1,'datetime_month')"
   ]
  },
  {
   "cell_type": "markdown",
   "id": "a8363d88",
   "metadata": {},
   "source": [
    "### Users engagement"
   ]
  },
  {
   "cell_type": "code",
   "execution_count": 46,
   "id": "bec1188d",
   "metadata": {},
   "outputs": [],
   "source": [
    "val=user_activity1['title'].str.startswith('comp', na=False)\n",
    "comp=user_activity1[val]"
   ]
  },
  {
   "cell_type": "markdown",
   "id": "25a71f04",
   "metadata": {},
   "source": [
    "## Merge user activity and user\n"
   ]
  },
  {
   "cell_type": "code",
   "execution_count": 50,
   "id": "eb583ba7",
   "metadata": {
    "scrolled": true
   },
   "outputs": [
    {
     "data": {
      "text/html": [
       "<div>\n",
       "<style scoped>\n",
       "    .dataframe tbody tr th:only-of-type {\n",
       "        vertical-align: middle;\n",
       "    }\n",
       "\n",
       "    .dataframe tbody tr th {\n",
       "        vertical-align: top;\n",
       "    }\n",
       "\n",
       "    .dataframe thead th {\n",
       "        text-align: right;\n",
       "    }\n",
       "</style>\n",
       "<table border=\"1\" class=\"dataframe\">\n",
       "  <thead>\n",
       "    <tr style=\"text-align: right;\">\n",
       "      <th></th>\n",
       "      <th>featurex</th>\n",
       "      <th>featurey</th>\n",
       "      <th>user_id</th>\n",
       "      <th>countries_id</th>\n",
       "      <th>created_at_time</th>\n",
       "      <th>created_at_year</th>\n",
       "      <th>created_at_month</th>\n",
       "      <th>created_at_day_of_month</th>\n",
       "      <th>title</th>\n",
       "      <th>datetime_time</th>\n",
       "      <th>datetime_year</th>\n",
       "      <th>datetime_month</th>\n",
       "      <th>datetime_day_of_month</th>\n",
       "    </tr>\n",
       "  </thead>\n",
       "  <tbody>\n",
       "    <tr>\n",
       "      <th>0</th>\n",
       "      <td>0</td>\n",
       "      <td>0</td>\n",
       "      <td>ID_DC6S4E9O</td>\n",
       "      <td>X9GR</td>\n",
       "      <td>19:33:13.663391</td>\n",
       "      <td>1</td>\n",
       "      <td>1</td>\n",
       "      <td>16</td>\n",
       "      <td>blog_ID_TTTU</td>\n",
       "      <td>20:15:58</td>\n",
       "      <td>1.0</td>\n",
       "      <td>4.0</td>\n",
       "      <td>17</td>\n",
       "    </tr>\n",
       "    <tr>\n",
       "      <th>1</th>\n",
       "      <td>0</td>\n",
       "      <td>0</td>\n",
       "      <td>ID_DC6S4E9O</td>\n",
       "      <td>X9GR</td>\n",
       "      <td>19:33:13.663391</td>\n",
       "      <td>1</td>\n",
       "      <td>1</td>\n",
       "      <td>16</td>\n",
       "      <td>Signed Up</td>\n",
       "      <td>20:33:13</td>\n",
       "      <td>1.0</td>\n",
       "      <td>1.0</td>\n",
       "      <td>16</td>\n",
       "    </tr>\n",
       "    <tr>\n",
       "      <th>2</th>\n",
       "      <td>0</td>\n",
       "      <td>0</td>\n",
       "      <td>ID_DC6S4E9O</td>\n",
       "      <td>X9GR</td>\n",
       "      <td>19:33:13.663391</td>\n",
       "      <td>1</td>\n",
       "      <td>1</td>\n",
       "      <td>16</td>\n",
       "      <td>$create_alias</td>\n",
       "      <td>20:33:14</td>\n",
       "      <td>1.0</td>\n",
       "      <td>1.0</td>\n",
       "      <td>16</td>\n",
       "    </tr>\n",
       "    <tr>\n",
       "      <th>3</th>\n",
       "      <td>0</td>\n",
       "      <td>0</td>\n",
       "      <td>ID_DC6S4E9O</td>\n",
       "      <td>X9GR</td>\n",
       "      <td>19:33:13.663391</td>\n",
       "      <td>1</td>\n",
       "      <td>1</td>\n",
       "      <td>16</td>\n",
       "      <td>$identify</td>\n",
       "      <td>20:33:14</td>\n",
       "      <td>1.0</td>\n",
       "      <td>1.0</td>\n",
       "      <td>16</td>\n",
       "    </tr>\n",
       "    <tr>\n",
       "      <th>4</th>\n",
       "      <td>0</td>\n",
       "      <td>0</td>\n",
       "      <td>ID_DC6S4E9O</td>\n",
       "      <td>X9GR</td>\n",
       "      <td>19:33:13.663391</td>\n",
       "      <td>1</td>\n",
       "      <td>1</td>\n",
       "      <td>16</td>\n",
       "      <td>Viewed All Discussions</td>\n",
       "      <td>20:33:14</td>\n",
       "      <td>1.0</td>\n",
       "      <td>1.0</td>\n",
       "      <td>16</td>\n",
       "    </tr>\n",
       "    <tr>\n",
       "      <th>...</th>\n",
       "      <td>...</td>\n",
       "      <td>...</td>\n",
       "      <td>...</td>\n",
       "      <td>...</td>\n",
       "      <td>...</td>\n",
       "      <td>...</td>\n",
       "      <td>...</td>\n",
       "      <td>...</td>\n",
       "      <td>...</td>\n",
       "      <td>...</td>\n",
       "      <td>...</td>\n",
       "      <td>...</td>\n",
       "      <td>...</td>\n",
       "    </tr>\n",
       "    <tr>\n",
       "      <th>319300</th>\n",
       "      <td>0</td>\n",
       "      <td>1</td>\n",
       "      <td>ID_8K4FGJYO</td>\n",
       "      <td>G4PG</td>\n",
       "      <td>10:22:54.369939</td>\n",
       "      <td>1</td>\n",
       "      <td>12</td>\n",
       "      <td>5</td>\n",
       "      <td>Viewed All Discussions</td>\n",
       "      <td>11:22:55</td>\n",
       "      <td>1.0</td>\n",
       "      <td>12.0</td>\n",
       "      <td>5</td>\n",
       "    </tr>\n",
       "    <tr>\n",
       "      <th>319301</th>\n",
       "      <td>0</td>\n",
       "      <td>1</td>\n",
       "      <td>ID_8K4FGJYO</td>\n",
       "      <td>G4PG</td>\n",
       "      <td>10:22:54.369939</td>\n",
       "      <td>1</td>\n",
       "      <td>12</td>\n",
       "      <td>5</td>\n",
       "      <td>Confirmed Email</td>\n",
       "      <td>11:23:01</td>\n",
       "      <td>1.0</td>\n",
       "      <td>12.0</td>\n",
       "      <td>5</td>\n",
       "    </tr>\n",
       "    <tr>\n",
       "      <th>319302</th>\n",
       "      <td>0</td>\n",
       "      <td>1</td>\n",
       "      <td>ID_8K4FGJYO</td>\n",
       "      <td>G4PG</td>\n",
       "      <td>10:22:54.369939</td>\n",
       "      <td>1</td>\n",
       "      <td>12</td>\n",
       "      <td>5</td>\n",
       "      <td>Updated Profile</td>\n",
       "      <td>11:23:11</td>\n",
       "      <td>1.0</td>\n",
       "      <td>12.0</td>\n",
       "      <td>5</td>\n",
       "    </tr>\n",
       "    <tr>\n",
       "      <th>319303</th>\n",
       "      <td>0</td>\n",
       "      <td>1</td>\n",
       "      <td>ID_8K4FGJYO</td>\n",
       "      <td>G4PG</td>\n",
       "      <td>10:22:54.369939</td>\n",
       "      <td>1</td>\n",
       "      <td>12</td>\n",
       "      <td>5</td>\n",
       "      <td>Updated Profile</td>\n",
       "      <td>11:23:42</td>\n",
       "      <td>1.0</td>\n",
       "      <td>12.0</td>\n",
       "      <td>5</td>\n",
       "    </tr>\n",
       "    <tr>\n",
       "      <th>319304</th>\n",
       "      <td>0</td>\n",
       "      <td>1</td>\n",
       "      <td>ID_8K4FGJYO</td>\n",
       "      <td>G4PG</td>\n",
       "      <td>10:22:54.369939</td>\n",
       "      <td>1</td>\n",
       "      <td>12</td>\n",
       "      <td>5</td>\n",
       "      <td>badge_OCZE</td>\n",
       "      <td>09:37:07</td>\n",
       "      <td>1.0</td>\n",
       "      <td>1.0</td>\n",
       "      <td>15</td>\n",
       "    </tr>\n",
       "  </tbody>\n",
       "</table>\n",
       "<p>319305 rows × 13 columns</p>\n",
       "</div>"
      ],
      "text/plain": [
       "        featurex  featurey      user_id countries_id  created_at_time  \\\n",
       "0              0         0  ID_DC6S4E9O         X9GR  19:33:13.663391   \n",
       "1              0         0  ID_DC6S4E9O         X9GR  19:33:13.663391   \n",
       "2              0         0  ID_DC6S4E9O         X9GR  19:33:13.663391   \n",
       "3              0         0  ID_DC6S4E9O         X9GR  19:33:13.663391   \n",
       "4              0         0  ID_DC6S4E9O         X9GR  19:33:13.663391   \n",
       "...          ...       ...          ...          ...              ...   \n",
       "319300         0         1  ID_8K4FGJYO         G4PG  10:22:54.369939   \n",
       "319301         0         1  ID_8K4FGJYO         G4PG  10:22:54.369939   \n",
       "319302         0         1  ID_8K4FGJYO         G4PG  10:22:54.369939   \n",
       "319303         0         1  ID_8K4FGJYO         G4PG  10:22:54.369939   \n",
       "319304         0         1  ID_8K4FGJYO         G4PG  10:22:54.369939   \n",
       "\n",
       "        created_at_year  created_at_month created_at_day_of_month  \\\n",
       "0                     1                 1                      16   \n",
       "1                     1                 1                      16   \n",
       "2                     1                 1                      16   \n",
       "3                     1                 1                      16   \n",
       "4                     1                 1                      16   \n",
       "...                 ...               ...                     ...   \n",
       "319300                1                12                       5   \n",
       "319301                1                12                       5   \n",
       "319302                1                12                       5   \n",
       "319303                1                12                       5   \n",
       "319304                1                12                       5   \n",
       "\n",
       "                         title datetime_time  datetime_year  datetime_month  \\\n",
       "0                 blog_ID_TTTU      20:15:58            1.0             4.0   \n",
       "1                    Signed Up      20:33:13            1.0             1.0   \n",
       "2                $create_alias      20:33:14            1.0             1.0   \n",
       "3                    $identify      20:33:14            1.0             1.0   \n",
       "4       Viewed All Discussions      20:33:14            1.0             1.0   \n",
       "...                        ...           ...            ...             ...   \n",
       "319300  Viewed All Discussions      11:22:55            1.0            12.0   \n",
       "319301         Confirmed Email      11:23:01            1.0            12.0   \n",
       "319302         Updated Profile      11:23:11            1.0            12.0   \n",
       "319303         Updated Profile      11:23:42            1.0            12.0   \n",
       "319304              badge_OCZE      09:37:07            1.0             1.0   \n",
       "\n",
       "       datetime_day_of_month  \n",
       "0                         17  \n",
       "1                         16  \n",
       "2                         16  \n",
       "3                         16  \n",
       "4                         16  \n",
       "...                      ...  \n",
       "319300                     5  \n",
       "319301                     5  \n",
       "319302                     5  \n",
       "319303                     5  \n",
       "319304                    15  \n",
       "\n",
       "[319305 rows x 13 columns]"
      ]
     },
     "execution_count": 50,
     "metadata": {},
     "output_type": "execute_result"
    }
   ],
   "source": [
    "merged_df=users1.merge(user_activity1,how='left')\n",
    "merged_df"
   ]
  },
  {
   "cell_type": "code",
   "execution_count": 65,
   "id": "5cd4bb31",
   "metadata": {},
   "outputs": [],
   "source": [
    "df=merged_df.copy()"
   ]
  },
  {
   "cell_type": "code",
   "execution_count": 70,
   "id": "033c5caa",
   "metadata": {},
   "outputs": [
    {
     "name": "stdout",
     "output_type": "stream",
     "text": [
      "<class 'pandas.core.frame.DataFrame'>\n",
      "Int64Index: 319305 entries, 0 to 319304\n",
      "Data columns (total 13 columns):\n",
      " #   Column                   Non-Null Count   Dtype   \n",
      "---  ------                   --------------   -----   \n",
      " 0   featurex                 319305 non-null  int64   \n",
      " 1   featurey                 319305 non-null  int64   \n",
      " 2   user_id                  319305 non-null  object  \n",
      " 3   countries_id             199217 non-null  object  \n",
      " 4   created_at_time          319305 non-null  object  \n",
      " 5   created_at_year          319305 non-null  int64   \n",
      " 6   created_at_month         319305 non-null  int64   \n",
      " 7   created_at_day_of_month  319305 non-null  category\n",
      " 8   title                    317292 non-null  object  \n",
      " 9   datetime_time            317292 non-null  object  \n",
      " 10  datetime_year            317292 non-null  float64 \n",
      " 11  datetime_month           317292 non-null  float64 \n",
      " 12  datetime_day_of_month    317292 non-null  category\n",
      "dtypes: category(2), float64(2), int64(4), object(5)\n",
      "memory usage: 29.8+ MB\n"
     ]
    }
   ],
   "source": [
    "df.info()"
   ]
  },
  {
   "cell_type": "code",
   "execution_count": null,
   "id": "ee2494ab",
   "metadata": {},
   "outputs": [],
   "source": []
  }
 ],
 "metadata": {
  "kernelspec": {
   "display_name": "Python 3 (ipykernel)",
   "language": "python",
   "name": "python3"
  },
  "language_info": {
   "codemirror_mode": {
    "name": "ipython",
    "version": 3
   },
   "file_extension": ".py",
   "mimetype": "text/x-python",
   "name": "python",
   "nbconvert_exporter": "python",
   "pygments_lexer": "ipython3",
   "version": "3.10.1"
  }
 },
 "nbformat": 4,
 "nbformat_minor": 5
}
